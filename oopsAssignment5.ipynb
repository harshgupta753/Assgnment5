{
 "cells": [
  {
   "cell_type": "code",
   "execution_count": 17,
   "id": "578bb961-9f26-4b92-af42-40126541740a",
   "metadata": {},
   "outputs": [],
   "source": [
    "# Q1. Explain Class and Object with respect to Object-Oriented Programming. Give a suitable example."
   ]
  },
  {
   "cell_type": "code",
   "execution_count": 18,
   "id": "739e2188-95c1-4e01-9e2f-e3b76cdda353",
   "metadata": {},
   "outputs": [],
   "source": [
    "#OOPs stands for Object-Oriented Programming, which is a programming paradigm that focuses on the use of objects and classes to structure and organize code. Python is an object-oriented programming language, and thus it supports OOP concepts such as inheritance, polymorphism, and encapsulation. In Python, you can define classes that encapsulate data and behavior into objects. Each object is an instance of a class, and it can have its own set of properties and methods. Classes can also inherit from other classes, allowing you to reuse code and build complex hierarchies of objects."
   ]
  },
  {
   "cell_type": "code",
   "execution_count": 14,
   "id": "941861ea-e2f3-48c1-9b4c-4d0d93615b9b",
   "metadata": {},
   "outputs": [],
   "source": [
    "class harsh:\n",
    "    def  __init__ (self, name, age, number):\n",
    "        self.name = name\n",
    "        self.age = age\n",
    "        self.number = number\n",
    "        \n",
    "    def gupta(self):\n",
    "        print(f\"Hello, My name is {self.name} and I'm {self.age} years old. My number is {self.number}\")"
   ]
  },
  {
   "cell_type": "code",
   "execution_count": 19,
   "id": "d6cd0830-3ab4-4b20-a18e-217ca7279037",
   "metadata": {},
   "outputs": [],
   "source": [
    "p = harsh(\"Krishna\", 32, 0000000000)"
   ]
  },
  {
   "cell_type": "code",
   "execution_count": 20,
   "id": "9ed3c8df-5088-4be0-9d7d-da66ac0f3975",
   "metadata": {},
   "outputs": [
    {
     "name": "stdout",
     "output_type": "stream",
     "text": [
      "Hello, My name is Krishna and I'm 32 years old. My number is 0\n"
     ]
    }
   ],
   "source": [
    "p.gupta()"
   ]
  },
  {
   "cell_type": "code",
   "execution_count": 21,
   "id": "62e1064e-ba48-4a44-b63e-5ec806bc905b",
   "metadata": {},
   "outputs": [],
   "source": [
    "#Q2. Name the four pillars of OOPs."
   ]
  },
  {
   "cell_type": "code",
   "execution_count": 23,
   "id": "0483af86-91a2-4b46-936a-3efe3beeb8e0",
   "metadata": {},
   "outputs": [],
   "source": [
    "#1. Encapsulation\n",
    "#2. Abstraction\n",
    "#3. Inheritance\n",
    "#4. Polymorphiism"
   ]
  },
  {
   "cell_type": "code",
   "execution_count": 24,
   "id": "c6d196bc-fd84-43c2-9e05-3d44ddbe4376",
   "metadata": {},
   "outputs": [],
   "source": [
    "#Q3. Explain why the __init__() function is used. Give a suitable example."
   ]
  },
  {
   "cell_type": "code",
   "execution_count": 26,
   "id": "7923c4c9-15cd-4f7f-b221-f640765e0c08",
   "metadata": {},
   "outputs": [],
   "source": [
    "# __init__ is a special method in Python classes that is used to initialize an instance of a class. It is also called a constructor method because it is called automatically when an object is created from the class. The __init__ method is used to set the initial state of an object by assigning values to its attributes."
   ]
  },
  {
   "cell_type": "code",
   "execution_count": 27,
   "id": "1bb8a922-e99f-4d0c-a3bb-ddd641271519",
   "metadata": {},
   "outputs": [],
   "source": [
    "def  __init__ (self, name, age, number):\n",
    "        self.name = name\n",
    "        self.age = age\n",
    "        self.number = number"
   ]
  },
  {
   "cell_type": "code",
   "execution_count": 28,
   "id": "b70ca266-2c92-4e3a-92b8-3d45281d4c22",
   "metadata": {},
   "outputs": [],
   "source": [
    "# Q4. Why self is used in OOPs?"
   ]
  },
  {
   "cell_type": "code",
   "execution_count": 29,
   "id": "37d500b3-13e9-4357-8fb6-8aade518fb42",
   "metadata": {},
   "outputs": [],
   "source": [
    "#In Object-Oriented Programming (OOP), self is used to refer to the instance of a class. It is a special keyword that refers to the object that is being created or manipulated. When you define a method in a class, you need to include the self parameter as the first argument. This is because when an instance of the class calls a method, the instance itself is automatically passed to the method as the self parameter. This allows the method to access the instance's attributes and call other methods on the instance."
   ]
  },
  {
   "cell_type": "code",
   "execution_count": 30,
   "id": "08420bee-b2b8-4d9a-8d70-a9d87bb9d569",
   "metadata": {},
   "outputs": [],
   "source": [
    "class Person:\n",
    "    def __init__(self, name, age):\n",
    "        self.name = name\n",
    "        self.age = age\n",
    "\n",
    "    def say_hello(self):\n",
    "        print(f\"Hello, my name is {self.name} and I'm {self.age} years old.\")"
   ]
  },
  {
   "cell_type": "code",
   "execution_count": 31,
   "id": "2ff473fc-fbbd-4f4a-8169-a1fe21ee852e",
   "metadata": {},
   "outputs": [],
   "source": [
    "# Q5. What is inheritance? Give an example for each type of inheritance."
   ]
  },
  {
   "cell_type": "code",
   "execution_count": 1,
   "id": "58b6eb3b-c4f2-4f3d-a22e-a2a24b49cfd6",
   "metadata": {},
   "outputs": [],
   "source": [
    "# Inheritance is a key feature of object-oriented programming (OOP) that allows a new class to be based on an existing class, inheriting all of its attributes (data members) and methods. The class being inherited from is called the \"parent\" or \"superclass\", while the class that inherits from it is called the \"child\" or \"subclass\"."
   ]
  },
  {
   "cell_type": "code",
   "execution_count": 12,
   "id": "2604756d-3ddc-4167-9d87-591fda748980",
   "metadata": {},
   "outputs": [
    {
     "name": "stdout",
     "output_type": "stream",
     "text": [
      "Animal Speaking!\n",
      "Woof!\n"
     ]
    }
   ],
   "source": [
    "#Single Inheritance\n",
    "class Animal:\n",
    "    def speak(self):\n",
    "        print(\"Animal Speaking!\")\n",
    "\n",
    "class Dog(Animal):\n",
    "    def bark(self):\n",
    "        print(\"Woof!\")\n",
    "\n",
    "dog.speak() \n",
    "dog.bark() \n"
   ]
  },
  {
   "cell_type": "code",
   "execution_count": 24,
   "id": "042f9098-291d-45d7-9c3d-3cbeb8c6c2d9",
   "metadata": {},
   "outputs": [
    {
     "name": "stdout",
     "output_type": "stream",
     "text": [
      "Animal Speaking!\n",
      "Mammal feeding milk...\n",
      "Woof!\n"
     ]
    }
   ],
   "source": [
    "#Multiple Inheritance\n",
    "class Animal:\n",
    "    def speak(self):\n",
    "        print(\"Animal Speaking!\")\n",
    "\n",
    "class Mammal:\n",
    "    def feed_milk(self):\n",
    "        print(\"Mammal feeding milk...\")\n",
    "\n",
    "class Dog(Animal, Mammal):\n",
    "    def bark(self):\n",
    "        print(\"Woof!\")\n",
    "\n",
    "dog.speak()   \n",
    "dog.feed_milk()   \n",
    "dog.bark()    "
   ]
  },
  {
   "cell_type": "code",
   "execution_count": 21,
   "id": "7f39db54-6a72-40cf-a199-4f10d934c4fb",
   "metadata": {},
   "outputs": [
    {
     "name": "stdout",
     "output_type": "stream",
     "text": [
      "Animal Speaking!\n",
      "Woof!\n",
      "Bulldog running...\n"
     ]
    }
   ],
   "source": [
    "#Mulit level Inheritance\n",
    "class Animal:\n",
    "    def speak(self):\n",
    "        print(\"Animal Speaking!\")\n",
    "\n",
    "class Dog(Animal):\n",
    "    def bark(self):\n",
    "        print(\"Woof!\")\n",
    "\n",
    "class Bulldog(Dog):\n",
    "    def run(self):\n",
    "        print(\"Bulldog running...\")\n",
    "\n",
    "bulldog.speak() \n",
    "bulldog.bark()   \n",
    "bulldog.run()    "
   ]
  },
  {
   "cell_type": "code",
   "execution_count": 18,
   "id": "6e8e7382-ea54-4cf3-8442-0116d4ac69ea",
   "metadata": {},
   "outputs": [
    {
     "name": "stdout",
     "output_type": "stream",
     "text": [
      "Animal Speaking!\n",
      "Woof!\n",
      "Animal Speaking!\n",
      "Meow!\n"
     ]
    }
   ],
   "source": [
    "#Hierarchical inheritance\n",
    "class Animal:\n",
    "    def speak(self):\n",
    "        print(\"Animal Speaking!\")\n",
    "\n",
    "class Dog(Animal):\n",
    "    def bark(self):\n",
    "        print(\"Woof!\")\n",
    "\n",
    "class Cat(Animal):\n",
    "    def meow(self):\n",
    "        print(\"Meow!\")\n",
    "\n",
    "dog.speak()     \n",
    "dog.bark()   \n",
    "cat.speak() \n",
    "cat.meow() "
   ]
  },
  {
   "cell_type": "code",
   "execution_count": null,
   "id": "c9ca29bf-e49b-4b14-8167-d0007311276b",
   "metadata": {},
   "outputs": [],
   "source": []
  }
 ],
 "metadata": {
  "kernelspec": {
   "display_name": "Python 3 (ipykernel)",
   "language": "python",
   "name": "python3"
  },
  "language_info": {
   "codemirror_mode": {
    "name": "ipython",
    "version": 3
   },
   "file_extension": ".py",
   "mimetype": "text/x-python",
   "name": "python",
   "nbconvert_exporter": "python",
   "pygments_lexer": "ipython3",
   "version": "3.10.8"
  }
 },
 "nbformat": 4,
 "nbformat_minor": 5
}
